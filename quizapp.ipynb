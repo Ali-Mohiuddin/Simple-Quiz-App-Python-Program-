questions = [
    "Q1) Who is the inventor of Computer? \n a) Charles Babbage \n b) Mark Zuckerberg \n c) Albert Einstein \n",
    "Q2) The Word W.H.O Stands For? \n a) World House Organization \n b) Word Heath Org \n c) World Health Organization \n",
    "Q3) The Word C.M.D Stands For? \n a) Command Property \n b) Command Prompt \n c) Computer Prompt \n",
    "Q4) The Word CPU Stands For? \n a) Command Property Unit \n b) Command Prompt Unit \n c) Central Processing Unit \n"
]
ans = ["a", "c", "b", "c"]
i = 0
for qu in questions:
    answer = input(qu)
    if answer == ans[i]:
        i = i+1
        print("\n Correct Answer: " + answer)
    else:
        print("\n Wrong Answer")
